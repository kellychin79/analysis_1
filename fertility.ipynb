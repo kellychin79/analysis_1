{
 "cells": [
  {
   "cell_type": "code",
   "execution_count": 111,
   "metadata": {},
   "outputs": [],
   "source": [
    "import pandas as pd\n",
    "import seaborn as sns\n",
    "import matplotlib.pyplot as plt"
   ]
  },
  {
   "cell_type": "markdown",
   "metadata": {},
   "source": [
    "### Data source: \n",
    "https://archive.ics.uci.edu/ml/datasets/Fertility\n",
    "\n",
    "### Attribute Information:\n",
    "\n",
    "- Season in which the analysis was performed. 1) winter, 2) spring, 3) Summer, 4) fall. (-1, -0.33, 0.33, 1)\n",
    "\n",
    "- Age at the time of analysis. 18-36 (0, 1)\n",
    "\n",
    "- Childish diseases (ie , chicken pox, measles, mumps, polio) 1) yes, 2) no. (0, 1)\n",
    "\n",
    "- Accident or serious trauma 1) yes, 2) no. (0, 1)\n",
    "\n",
    "- Surgical intervention 1) yes, 2) no. (0, 1)\n",
    "\n",
    "- High fevers in the last year 1) less than three months ago, 2) more than three months ago, 3) no. (-1, 0, 1)\n",
    "\n",
    "- Frequency of alcohol consumption 1) several times a day, 2) every day, 3) several times a week, 4) once a week, 5) hardly ever or never (0, 1)\n",
    "\n",
    "- Smoking habit 1) never, 2) occasional 3) daily. (-1, 0, 1)\n",
    "\n",
    "- Number of hours spent sitting per day ene-16 (0, 1)\n",
    "\n",
    "- Output: Diagnosis normal (N), altered (O)"
   ]
  },
  {
   "cell_type": "code",
   "execution_count": 89,
   "metadata": {},
   "outputs": [],
   "source": [
    "headers = ['performed_seasons', 'age', 'childish_disease', 'trauma', 'surgical_intervention', \n",
    "           'fever_last_year', 'alcohol', 'smoking', 'hours_sitting', 'output']"
   ]
  },
  {
   "cell_type": "code",
   "execution_count": 90,
   "metadata": {},
   "outputs": [
    {
     "name": "stdout",
     "output_type": "stream",
     "text": [
      "<class 'pandas.core.frame.DataFrame'>\n",
      "RangeIndex: 100 entries, 0 to 99\n",
      "Data columns (total 10 columns):\n",
      " #   Column                 Non-Null Count  Dtype  \n",
      "---  ------                 --------------  -----  \n",
      " 0   performed_seasons      100 non-null    float64\n",
      " 1   age                    100 non-null    float64\n",
      " 2   childish_disease       100 non-null    int64  \n",
      " 3   trauma                 100 non-null    int64  \n",
      " 4   surgical_intervention  100 non-null    int64  \n",
      " 5   fever_last_year        100 non-null    int64  \n",
      " 6   alcohol                100 non-null    float64\n",
      " 7   smoking                100 non-null    int64  \n",
      " 8   hours_sitting          100 non-null    float64\n",
      " 9   output                 100 non-null    object \n",
      "dtypes: float64(4), int64(5), object(1)\n",
      "memory usage: 7.9+ KB\n"
     ]
    }
   ],
   "source": [
    "df = pd.read_csv('fertility_Diagnosis.txt', header = None, names = headers)\n",
    "df.info()"
   ]
  },
  {
   "cell_type": "code",
   "execution_count": 91,
   "metadata": {},
   "outputs": [
    {
     "data": {
      "text/plain": [
       "N    88\n",
       "O    12\n",
       "Name: output, dtype: int64"
      ]
     },
     "execution_count": 91,
     "metadata": {},
     "output_type": "execute_result"
    }
   ],
   "source": [
    "df['output'].value_counts()"
   ]
  },
  {
   "cell_type": "code",
   "execution_count": 92,
   "metadata": {
    "scrolled": true
   },
   "outputs": [
    {
     "data": {
      "text/html": [
       "<div>\n",
       "<style scoped>\n",
       "    .dataframe tbody tr th:only-of-type {\n",
       "        vertical-align: middle;\n",
       "    }\n",
       "\n",
       "    .dataframe tbody tr th {\n",
       "        vertical-align: top;\n",
       "    }\n",
       "\n",
       "    .dataframe thead th {\n",
       "        text-align: right;\n",
       "    }\n",
       "</style>\n",
       "<table border=\"1\" class=\"dataframe\">\n",
       "  <thead>\n",
       "    <tr style=\"text-align: right;\">\n",
       "      <th></th>\n",
       "      <th>performed_seasons</th>\n",
       "      <th>age</th>\n",
       "      <th>childish_disease</th>\n",
       "      <th>trauma</th>\n",
       "      <th>surgical_intervention</th>\n",
       "      <th>fever_last_year</th>\n",
       "      <th>alcohol</th>\n",
       "      <th>smoking</th>\n",
       "      <th>hours_sitting</th>\n",
       "      <th>output</th>\n",
       "    </tr>\n",
       "  </thead>\n",
       "  <tbody>\n",
       "    <tr>\n",
       "      <th>0</th>\n",
       "      <td>-0.33</td>\n",
       "      <td>0.69</td>\n",
       "      <td>0</td>\n",
       "      <td>1</td>\n",
       "      <td>1</td>\n",
       "      <td>0</td>\n",
       "      <td>0.8</td>\n",
       "      <td>0</td>\n",
       "      <td>0.88</td>\n",
       "      <td>N</td>\n",
       "    </tr>\n",
       "    <tr>\n",
       "      <th>1</th>\n",
       "      <td>-0.33</td>\n",
       "      <td>0.94</td>\n",
       "      <td>1</td>\n",
       "      <td>0</td>\n",
       "      <td>1</td>\n",
       "      <td>0</td>\n",
       "      <td>0.8</td>\n",
       "      <td>1</td>\n",
       "      <td>0.31</td>\n",
       "      <td>O</td>\n",
       "    </tr>\n",
       "    <tr>\n",
       "      <th>2</th>\n",
       "      <td>-0.33</td>\n",
       "      <td>0.50</td>\n",
       "      <td>1</td>\n",
       "      <td>0</td>\n",
       "      <td>0</td>\n",
       "      <td>0</td>\n",
       "      <td>1.0</td>\n",
       "      <td>-1</td>\n",
       "      <td>0.50</td>\n",
       "      <td>N</td>\n",
       "    </tr>\n",
       "    <tr>\n",
       "      <th>3</th>\n",
       "      <td>-0.33</td>\n",
       "      <td>0.75</td>\n",
       "      <td>0</td>\n",
       "      <td>1</td>\n",
       "      <td>1</td>\n",
       "      <td>0</td>\n",
       "      <td>1.0</td>\n",
       "      <td>-1</td>\n",
       "      <td>0.38</td>\n",
       "      <td>N</td>\n",
       "    </tr>\n",
       "    <tr>\n",
       "      <th>4</th>\n",
       "      <td>-0.33</td>\n",
       "      <td>0.67</td>\n",
       "      <td>1</td>\n",
       "      <td>1</td>\n",
       "      <td>0</td>\n",
       "      <td>0</td>\n",
       "      <td>0.8</td>\n",
       "      <td>-1</td>\n",
       "      <td>0.50</td>\n",
       "      <td>O</td>\n",
       "    </tr>\n",
       "  </tbody>\n",
       "</table>\n",
       "</div>"
      ],
      "text/plain": [
       "   performed_seasons   age  childish_disease  trauma  surgical_intervention  \\\n",
       "0              -0.33  0.69                 0       1                      1   \n",
       "1              -0.33  0.94                 1       0                      1   \n",
       "2              -0.33  0.50                 1       0                      0   \n",
       "3              -0.33  0.75                 0       1                      1   \n",
       "4              -0.33  0.67                 1       1                      0   \n",
       "\n",
       "   fever_last_year  alcohol  smoking  hours_sitting output  \n",
       "0                0      0.8        0           0.88      N  \n",
       "1                0      0.8        1           0.31      O  \n",
       "2                0      1.0       -1           0.50      N  \n",
       "3                0      1.0       -1           0.38      N  \n",
       "4                0      0.8       -1           0.50      O  "
      ]
     },
     "execution_count": 92,
     "metadata": {},
     "output_type": "execute_result"
    }
   ],
   "source": [
    "df.head()"
   ]
  },
  {
   "cell_type": "code",
   "execution_count": 93,
   "metadata": {},
   "outputs": [
    {
     "data": {
      "text/html": [
       "<div>\n",
       "<style scoped>\n",
       "    .dataframe tbody tr th:only-of-type {\n",
       "        vertical-align: middle;\n",
       "    }\n",
       "\n",
       "    .dataframe tbody tr th {\n",
       "        vertical-align: top;\n",
       "    }\n",
       "\n",
       "    .dataframe thead th {\n",
       "        text-align: right;\n",
       "    }\n",
       "</style>\n",
       "<table border=\"1\" class=\"dataframe\">\n",
       "  <thead>\n",
       "    <tr style=\"text-align: right;\">\n",
       "      <th></th>\n",
       "      <th>performed_seasons</th>\n",
       "      <th>age</th>\n",
       "      <th>childish_disease</th>\n",
       "      <th>trauma</th>\n",
       "      <th>surgical_intervention</th>\n",
       "      <th>fever_last_year</th>\n",
       "      <th>alcohol</th>\n",
       "      <th>smoking</th>\n",
       "      <th>hours_sitting</th>\n",
       "      <th>output</th>\n",
       "    </tr>\n",
       "  </thead>\n",
       "  <tbody>\n",
       "    <tr>\n",
       "      <th>0</th>\n",
       "      <td>spring</td>\n",
       "      <td>30</td>\n",
       "      <td>0</td>\n",
       "      <td>1</td>\n",
       "      <td>1</td>\n",
       "      <td>more than 3M ago</td>\n",
       "      <td>once a week</td>\n",
       "      <td>occasional</td>\n",
       "      <td>14.08</td>\n",
       "      <td>Normal</td>\n",
       "    </tr>\n",
       "    <tr>\n",
       "      <th>1</th>\n",
       "      <td>spring</td>\n",
       "      <td>34</td>\n",
       "      <td>1</td>\n",
       "      <td>0</td>\n",
       "      <td>1</td>\n",
       "      <td>more than 3M ago</td>\n",
       "      <td>once a week</td>\n",
       "      <td>every day</td>\n",
       "      <td>4.96</td>\n",
       "      <td>Altered</td>\n",
       "    </tr>\n",
       "    <tr>\n",
       "      <th>2</th>\n",
       "      <td>spring</td>\n",
       "      <td>27</td>\n",
       "      <td>1</td>\n",
       "      <td>0</td>\n",
       "      <td>0</td>\n",
       "      <td>more than 3M ago</td>\n",
       "      <td>hardly ever or never</td>\n",
       "      <td>never</td>\n",
       "      <td>8.00</td>\n",
       "      <td>Normal</td>\n",
       "    </tr>\n",
       "    <tr>\n",
       "      <th>3</th>\n",
       "      <td>spring</td>\n",
       "      <td>31</td>\n",
       "      <td>0</td>\n",
       "      <td>1</td>\n",
       "      <td>1</td>\n",
       "      <td>more than 3M ago</td>\n",
       "      <td>hardly ever or never</td>\n",
       "      <td>never</td>\n",
       "      <td>6.08</td>\n",
       "      <td>Normal</td>\n",
       "    </tr>\n",
       "    <tr>\n",
       "      <th>4</th>\n",
       "      <td>spring</td>\n",
       "      <td>30</td>\n",
       "      <td>1</td>\n",
       "      <td>1</td>\n",
       "      <td>0</td>\n",
       "      <td>more than 3M ago</td>\n",
       "      <td>once a week</td>\n",
       "      <td>never</td>\n",
       "      <td>8.00</td>\n",
       "      <td>Altered</td>\n",
       "    </tr>\n",
       "  </tbody>\n",
       "</table>\n",
       "</div>"
      ],
      "text/plain": [
       "  performed_seasons  age  childish_disease  trauma  surgical_intervention  \\\n",
       "0            spring   30                 0       1                      1   \n",
       "1            spring   34                 1       0                      1   \n",
       "2            spring   27                 1       0                      0   \n",
       "3            spring   31                 0       1                      1   \n",
       "4            spring   30                 1       1                      0   \n",
       "\n",
       "    fever_last_year               alcohol     smoking  hours_sitting   output  \n",
       "0  more than 3M ago           once a week  occasional          14.08   Normal  \n",
       "1  more than 3M ago           once a week   every day           4.96  Altered  \n",
       "2  more than 3M ago  hardly ever or never       never           8.00   Normal  \n",
       "3  more than 3M ago  hardly ever or never       never           6.08   Normal  \n",
       "4  more than 3M ago           once a week       never           8.00  Altered  "
      ]
     },
     "execution_count": 93,
     "metadata": {},
     "output_type": "execute_result"
    }
   ],
   "source": [
    "# transform the data for interpretation\n",
    "seasons = {-1: 'winter', -0.33: 'spring', 0.33: 'summer', 1: 'fall'}\n",
    "df['performed_seasons'] = df['performed_seasons'].apply(lambda x: seasons[x])\n",
    "\n",
    "fevers = {-1:'less than 3M ago', 0: 'more than 3M ago', 1:'No'}\n",
    "df['fever_last_year'] = df['fever_last_year'].apply(lambda x: fevers[x])\n",
    "\n",
    "alcohols = {0.2:'several times a day', 0.4:'every day', 0.6:'several time a week', 0.8:'once a week', 1:'hardly ever or never'}\n",
    "df['alcohol'] = df['alcohol'].apply(lambda x: alcohols[x])\n",
    "\n",
    "smokings = {-1:'never', 0:'occasional', 1:'every day'}\n",
    "df['smoking'] = df['smoking'].apply(lambda x: smokings[x])\n",
    "\n",
    "df['age'] = ((df['age'] * 18) + 18).astype(int)\n",
    "df['hours_sitting'] = df['hours_sitting'] * 16\n",
    "df['output'] = df['output'].apply(lambda x: 'Normal' if x == 'N' else 'Altered')\n",
    "df.head()"
   ]
  },
  {
   "cell_type": "code",
   "execution_count": 94,
   "metadata": {},
   "outputs": [
    {
     "name": "stdout",
     "output_type": "stream",
     "text": [
      "<class 'pandas.core.frame.DataFrame'>\n",
      "RangeIndex: 100 entries, 0 to 99\n",
      "Data columns (total 10 columns):\n",
      " #   Column                 Non-Null Count  Dtype  \n",
      "---  ------                 --------------  -----  \n",
      " 0   performed_seasons      100 non-null    object \n",
      " 1   age                    100 non-null    int64  \n",
      " 2   childish_disease       100 non-null    int64  \n",
      " 3   trauma                 100 non-null    int64  \n",
      " 4   surgical_intervention  100 non-null    int64  \n",
      " 5   fever_last_year        100 non-null    object \n",
      " 6   alcohol                100 non-null    object \n",
      " 7   smoking                100 non-null    object \n",
      " 8   hours_sitting          100 non-null    float64\n",
      " 9   output                 100 non-null    object \n",
      "dtypes: float64(1), int64(4), object(5)\n",
      "memory usage: 7.9+ KB\n"
     ]
    }
   ],
   "source": [
    "df.info()"
   ]
  },
  {
   "cell_type": "markdown",
   "metadata": {},
   "source": [
    "A pretty small data set (100 data points). The label is 12% vs. 88% so I think it's fine to play around it and understand more."
   ]
  },
  {
   "cell_type": "markdown",
   "metadata": {},
   "source": [
    "### Exploratory Analysis"
   ]
  },
  {
   "cell_type": "markdown",
   "metadata": {},
   "source": [
    "**Performed Seasons**"
   ]
  },
  {
   "cell_type": "code",
   "execution_count": 95,
   "metadata": {},
   "outputs": [
    {
     "data": {
      "text/plain": [
       "<AxesSubplot:xlabel='performed_seasons', ylabel='count'>"
      ]
     },
     "execution_count": 95,
     "metadata": {},
     "output_type": "execute_result"
    },
    {
     "data": {
      "image/png": "[encoded data removed]",
      "text/plain": [
       "<Figure size 432x288 with 1 Axes>"
      ]
     },
     "metadata": {
      "needs_background": "light"
     },
     "output_type": "display_data"
    }
   ],
   "source": [
    "sns.countplot(data=df[['performed_seasons','output']],x='performed_seasons', hue='output')"
   ]
  },
  {
   "cell_type": "markdown",
   "metadata": {},
   "source": [
    "Less analyses were performed in the summer. "
   ]
  },
  {
   "cell_type": "markdown",
   "metadata": {},
   "source": [
    "**Fevers in the last year**"
   ]
  },
  {
   "cell_type": "code",
   "execution_count": 123,
   "metadata": {},
   "outputs": [
    {
     "data": {
      "text/plain": [
       "<AxesSubplot:xlabel='fever_last_year', ylabel='count'>"
      ]
     },
     "execution_count": 123,
     "metadata": {},
     "output_type": "execute_result"
    },
    {
     "data": {
      "image/png": "[encoded data removed]",
      "text/plain": [
       "<Figure size 432x288 with 1 Axes>"
      ]
     },
     "metadata": {
      "needs_background": "light"
     },
     "output_type": "display_data"
    }
   ],
   "source": [
    "sns.countplot(data=df[['fever_last_year','output']],x='fever_last_year', hue='output')"
   ]
  },
  {
   "cell_type": "code",
   "execution_count": 124,
   "metadata": {},
   "outputs": [
    {
     "data": {
      "text/plain": [
       "fever_last_year\n",
       "No                  0.07\n",
       "less than 3M ago    0.22\n",
       "more than 3M ago    0.13\n",
       "dtype: float64"
      ]
     },
     "execution_count": 124,
     "metadata": {},
     "output_type": "execute_result"
    }
   ],
   "source": [
    "altered_by_fever = df[['fever_last_year', 'output']].groupby('fever_last_year').apply(lambda x: x[x['output'] == 'Altered']['output'].count()) \n",
    "ana_by_fever = df.groupby('fever_last_year')['output'].count()\n",
    "(altered_by_fever / ana_by_fever).round(2)"
   ]
  },
  {
   "cell_type": "markdown",
   "metadata": {},
   "source": [
    "There is no significant difference between the timing of high fevers in the last year."
   ]
  },
  {
   "cell_type": "markdown",
   "metadata": {},
   "source": [
    "**Alcohol Consumption**"
   ]
  },
  {
   "cell_type": "code",
   "execution_count": 131,
   "metadata": {},
   "outputs": [
    {
     "data": {
      "image/png": "[encoded data removed]",
      "text/plain": [
       "<Figure size 432x288 with 1 Axes>"
      ]
     },
     "metadata": {
      "needs_background": "light"
     },
     "output_type": "display_data"
    }
   ],
   "source": [
    "sns.countplot(data=df[['alcohol','output']],x='alcohol', hue='output')\n",
    "plt.xticks(rotation=30);"
   ]
  },
  {
   "cell_type": "code",
   "execution_count": 132,
   "metadata": {},
   "outputs": [
    {
     "data": {
      "text/plain": [
       "alcohol\n",
       "every day               0.00\n",
       "hardly ever or never    0.05\n",
       "once a week             0.15\n",
       "several time a week     0.21\n",
       "several times a day     0.00\n",
       "dtype: float64"
      ]
     },
     "execution_count": 132,
     "metadata": {},
     "output_type": "execute_result"
    }
   ],
   "source": [
    "altered_by_alcohol = df[['alcohol', 'output']].groupby('alcohol').apply(lambda x: x[x['output'] == 'Altered']['output'].count()) \n",
    "ana_by_alcohol = df.groupby('alcohol')['output'].count()\n",
    "(altered_by_alcohol / ana_by_alcohol).round(2)"
   ]
  },
  {
   "cell_type": "markdown",
   "metadata": {},
   "source": [
    "In terms of alcohol consumption, the groups of 'every day' and 'several times a day' have no altered data points due to the group sizes. The group of 'several time a week' has relatively altered rate than the rest."
   ]
  },
  {
   "cell_type": "markdown",
   "metadata": {},
   "source": [
    "**Smoking Habits**"
   ]
  },
  {
   "cell_type": "code",
   "execution_count": 135,
   "metadata": {},
   "outputs": [
    {
     "data": {
      "text/plain": [
       "<AxesSubplot:xlabel='smoking', ylabel='count'>"
      ]
     },
     "execution_count": 135,
     "metadata": {},
     "output_type": "execute_result"
    },
    {
     "data": {
      "image/png": "[encoded data removed]",
      "text/plain": [
       "<Figure size 432x288 with 1 Axes>"
      ]
     },
     "metadata": {
      "needs_background": "light"
     },
     "output_type": "display_data"
    }
   ],
   "source": [
    "sns.countplot(data=df[['smoking','output']],x='smoking', hue='output')"
   ]
  },
  {
   "cell_type": "markdown",
   "metadata": {},
   "source": [
    "The major group has no smoking behavior. As for the rest groups, there is no significant differences between them."
   ]
  },
  {
   "cell_type": "markdown",
   "metadata": {},
   "source": [
    "**Age**"
   ]
  },
  {
   "cell_type": "code",
   "execution_count": 116,
   "metadata": {
    "scrolled": true
   },
   "outputs": [
    {
     "data": {
      "image/png": "[encoded data removed]",
      "text/plain": [
       "<Figure size 432x288 with 1 Axes>"
      ]
     },
     "metadata": {
      "needs_background": "light"
     },
     "output_type": "display_data"
    }
   ],
   "source": [
    "age_max = df['age'].max()\n",
    "age_min = df['age'].min() \n",
    "\n",
    "sns.histplot(data=df[['age','output']],bins=age_max-age_min,\n",
    "             x='age', hue='output',multiple='stack')\n",
    "ticks = [age_min + i for i in range(age_max-age_min)]\n",
    "plt.xticks(ticks);"
   ]
  },
  {
   "cell_type": "code",
   "execution_count": 122,
   "metadata": {},
   "outputs": [
    {
     "data": {
      "text/plain": [
       "age\n",
       "27    0.06\n",
       "28    0.00\n",
       "29    0.00\n",
       "30    0.30\n",
       "31    0.10\n",
       "32    0.15\n",
       "33    0.00\n",
       "34    0.20\n",
       "36    0.00\n",
       "dtype: float64"
      ]
     },
     "execution_count": 122,
     "metadata": {},
     "output_type": "execute_result"
    }
   ],
   "source": [
    "altered_by_age = df[['age', 'output']].groupby('age').apply(lambda x: x[x['output'] == 'Altered']['output'].count()) \n",
    "ana_by_age = df.groupby('age')['output'].count()\n",
    "(altered_by_age / ana_by_age).round(2)"
   ]
  },
  {
   "cell_type": "markdown",
   "metadata": {},
   "source": [
    "The smallest age 27 had the most analyses. As age increases, number of analyses reduces. Altered rate does not follow this trend."
   ]
  },
  {
   "cell_type": "markdown",
   "metadata": {},
   "source": [
    "**Hours spent sitting per day**"
   ]
  },
  {
   "cell_type": "code",
   "execution_count": 144,
   "metadata": {
    "scrolled": true
   },
   "outputs": [
    {
     "data": {
      "text/plain": [
       "<AxesSubplot:xlabel='hours_sitting', ylabel='Count'>"
      ]
     },
     "execution_count": 144,
     "metadata": {},
     "output_type": "execute_result"
    },
    {
     "data": {
      "image/png": "[encoded data removed]",
      "text/plain": [
       "<Figure size 432x288 with 1 Axes>"
      ]
     },
     "metadata": {
      "needs_background": "light"
     },
     "output_type": "display_data"
    }
   ],
   "source": [
    "hours_max = df['hours_sitting'].max()\n",
    "hours_min = df['hours_sitting'].min() \n",
    "\n",
    "sns.histplot(data=df[['hours_sitting','output']],x='hours_sitting', hue='output',multiple='stack')"
   ]
  },
  {
   "cell_type": "markdown",
   "metadata": {},
   "source": [
    "The majority spends less than 11 hours on sitting per day, within which altered appears in every sub-group."
   ]
  },
  {
   "cell_type": "markdown",
   "metadata": {},
   "source": [
    "**Surgical intervention**"
   ]
  },
  {
   "cell_type": "code",
   "execution_count": 161,
   "metadata": {
    "scrolled": true
   },
   "outputs": [
    {
     "data": {
      "text/plain": [
       "<AxesSubplot:xlabel='surgical_intervention', ylabel='count'>"
      ]
     },
     "execution_count": 161,
     "metadata": {},
     "output_type": "execute_result"
    },
    {
     "data": {
      "image/png": "[encoded data removed]",
      "text/plain": [
       "<Figure size 432x288 with 1 Axes>"
      ]
     },
     "metadata": {
      "needs_background": "light"
     },
     "output_type": "display_data"
    }
   ],
   "source": [
    "sns.countplot(data=df[['surgical_intervention','output']], x='surgical_intervention', hue='output')"
   ]
  },
  {
   "cell_type": "code",
   "execution_count": 162,
   "metadata": {},
   "outputs": [
    {
     "data": {
      "text/plain": [
       "1    51\n",
       "0    49\n",
       "Name: surgical_intervention, dtype: int64"
      ]
     },
     "execution_count": 162,
     "metadata": {},
     "output_type": "execute_result"
    }
   ],
   "source": [
    "df['surgical_intervention'].value_counts()"
   ]
  },
  {
   "cell_type": "markdown",
   "metadata": {},
   "source": [
    "There seems no significant differences whether there is surgical intervention or not."
   ]
  },
  {
   "cell_type": "markdown",
   "metadata": {},
   "source": [
    "**Childish diseases**"
   ]
  },
  {
   "cell_type": "code",
   "execution_count": 163,
   "metadata": {
    "scrolled": true
   },
   "outputs": [
    {
     "data": {
      "text/plain": [
       "<AxesSubplot:xlabel='childish_disease', ylabel='count'>"
      ]
     },
     "execution_count": 163,
     "metadata": {},
     "output_type": "execute_result"
    },
    {
     "data": {
      "image/png": "[encoded data removed]",
      "text/plain": [
       "<Figure size 432x288 with 1 Axes>"
      ]
     },
     "metadata": {
      "needs_background": "light"
     },
     "output_type": "display_data"
    }
   ],
   "source": [
    "sns.countplot(data=df[['childish_disease','output']], x='childish_disease', hue='output')"
   ]
  },
  {
   "cell_type": "code",
   "execution_count": 164,
   "metadata": {},
   "outputs": [
    {
     "data": {
      "text/plain": [
       "childish_disease\n",
       "0    0.15\n",
       "1    0.11\n",
       "dtype: float64"
      ]
     },
     "execution_count": 164,
     "metadata": {},
     "output_type": "execute_result"
    }
   ],
   "source": [
    "altered_by_disease = df[['childish_disease', 'output']].groupby('childish_disease').apply(lambda x: x[x['output'] == 'Altered']['output'].count()) \n",
    "ana_by_disease = df.groupby('childish_disease')['output'].count()\n",
    "(altered_by_disease / ana_by_disease).round(2)"
   ]
  },
  {
   "cell_type": "markdown",
   "metadata": {},
   "source": [
    "There seems no significant differences whether childish diseases developed or not."
   ]
  },
  {
   "cell_type": "markdown",
   "metadata": {},
   "source": [
    "**Accident or serious trauma**"
   ]
  },
  {
   "cell_type": "code",
   "execution_count": 165,
   "metadata": {
    "scrolled": true
   },
   "outputs": [
    {
     "data": {
      "text/plain": [
       "<AxesSubplot:xlabel='trauma', ylabel='count'>"
      ]
     },
     "execution_count": 165,
     "metadata": {},
     "output_type": "execute_result"
    },
    {
     "data": {
      "image/png": "[encoded data removed]",
      "text/plain": [
       "<Figure size 432x288 with 1 Axes>"
      ]
     },
     "metadata": {
      "needs_background": "light"
     },
     "output_type": "display_data"
    }
   ],
   "source": [
    "sns.countplot(data=df[['trauma','output']], x='trauma', hue='output')"
   ]
  },
  {
   "cell_type": "markdown",
   "metadata": {},
   "source": [
    "There seems no significant differences whether accident or serious trauma occurred or not."
   ]
  },
  {
   "cell_type": "code",
   "execution_count": 179,
   "metadata": {},
   "outputs": [],
   "source": [
    "altered_group = df[df['output']=='Altered']\n",
    "normal_group = df[df['output']!='Altered']"
   ]
  },
  {
   "cell_type": "code",
   "execution_count": 184,
   "metadata": {},
   "outputs": [
    {
     "name": "stdout",
     "output_type": "stream",
     "text": [
      "Altered Group Stats\n",
      "             age  childish_disease    trauma  surgical_intervention  \\\n",
      "mean  30.500000          0.833333  0.250000               0.583333   \n",
      "std    1.678744          0.389249  0.452267               0.514929   \n",
      "min   27.000000          0.000000  0.000000               0.000000   \n",
      "25%   30.000000          1.000000  0.000000               0.000000   \n",
      "50%   30.000000          1.000000  0.000000               1.000000   \n",
      "75%   31.250000          1.000000  0.250000               1.000000   \n",
      "max   34.000000          1.000000  1.000000               1.000000   \n",
      "\n",
      "      hours_sitting  \n",
      "mean       6.693333  \n",
      "std        3.077535  \n",
      "min        0.960000  \n",
      "25%        5.800000  \n",
      "50%        6.560000  \n",
      "75%        8.000000  \n",
      "max       14.080000  \n",
      "\n",
      "\n",
      "Normal Group Stats\n",
      "             age  childish_disease    trauma  surgical_intervention  \\\n",
      "mean  29.579545          0.875000  0.465909               0.500000   \n",
      "std    2.195720          0.332614  0.501695               0.502865   \n",
      "min   27.000000          0.000000  0.000000               0.000000   \n",
      "25%   28.000000          1.000000  0.000000               0.000000   \n",
      "50%   29.000000          1.000000  0.000000               0.500000   \n",
      "75%   31.000000          1.000000  1.000000               1.000000   \n",
      "max   36.000000          1.000000  1.000000               1.000000   \n",
      "\n",
      "      hours_sitting  \n",
      "mean       6.483636  \n",
      "std        2.986336  \n",
      "min        0.960000  \n",
      "25%        4.000000  \n",
      "50%        6.080000  \n",
      "75%        8.000000  \n",
      "max       16.000000  \n"
     ]
    }
   ],
   "source": [
    "print('Altered Group Stats\\n',altered_group.describe()[1:])\n",
    "print('\\n')\n",
    "print('Normal Group Stats\\n',normal_group.describe()[1:])"
   ]
  },
  {
   "cell_type": "markdown",
   "metadata": {},
   "source": [
    "Observations:\n",
    "- Age: Altered is averagely older\n",
    "- Accident or trauma: more likely to happen in Altered\n",
    "- Surgical Intervention: more likely to happen in Normal\n",
    "- Hours spent sitting: Altered is averagely longer"
   ]
  },
  {
   "cell_type": "code",
   "execution_count": null,
   "metadata": {},
   "outputs": [],
   "source": []
  }
 ],
 "metadata": {
  "kernelspec": {
   "display_name": "Python 3",
   "language": "python",
   "name": "python3"
  },
  "language_info": {
   "codemirror_mode": {
    "name": "ipython",
    "version": 3
   },
   "file_extension": ".py",
   "mimetype": "text/x-python",
   "name": "python",
   "nbconvert_exporter": "python",
   "pygments_lexer": "ipython3",
   "version": "3.8.5"
  }
 },
 "nbformat": 4,
 "nbformat_minor": 4
}
